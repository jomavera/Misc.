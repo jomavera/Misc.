{
 "cells": [
  {
   "cell_type": "code",
   "execution_count": 2,
   "metadata": {
    "collapsed": true
   },
   "outputs": [],
   "source": [
    "using ForwardDiff: jacobian, hessian\n",
    "using LinearAlgebra"
   ]
  },
  {
   "cell_type": "markdown",
   "metadata": {},
   "source": [
    "### Composite for a Newton problem"
   ]
  },
  {
   "cell_type": "code",
   "execution_count": 3,
   "metadata": {
    "collapsed": true
   },
   "outputs": [],
   "source": [
    "struct NewtonProblem\n",
    "    fun\n",
    "    x_0::Vector\n",
    "    α::Float64\n",
    "    E::Float64\n",
    "end"
   ]
  },
  {
   "cell_type": "markdown",
   "metadata": {},
   "source": [
    "### Define newton algortihm"
   ]
  },
  {
   "cell_type": "code",
   "execution_count": 4,
   "metadata": {
    "collapsed": true
   },
   "outputs": [],
   "source": [
    "function solve(fun, x_0, α, E)\n",
    "    \n",
    "    fun_2(x::Vector) = [ fun(x) ] #From scalar to array\n",
    "    x = copy(x_0)\n",
    "    \n",
    "    while norm(jacobian(fun_2,x)) > E\n",
    "        x = x + α * (hessian(fun,x) \\ -jacobian(fun_2,x)[1,:])\n",
    "    end\n",
    "    \n",
    "    return x\n",
    "end\n",
    "\n",
    "# Set to the NewtonProblem type the 'solve' function\n",
    "(P::NewtonProblem)() = solve(P.fun,P.x_0,P.α,P.E)"
   ]
  },
  {
   "cell_type": "markdown",
   "metadata": {},
   "source": [
    "### Example\n",
    "\n",
    "$f(\\textbf{x}) = x_1^2+x_2^2+x_3^2$\n",
    "\n",
    "$\\textbf{x}^{(0)} = [1,1,1]^T$\n",
    "\n",
    "$\\alpha = 0.1$\n",
    "\n",
    "$E = 0.001$"
   ]
  },
  {
   "cell_type": "code",
   "execution_count": 5,
   "metadata": {},
   "outputs": [
    {
     "name": "stdout",
     "output_type": "stream",
     "text": [
      "[0.00026972160559060745, 0.00026972160559060745, 0.00026972160559060745]\n"
     ]
    }
   ],
   "source": [
    "fun(x::Vector) = x[1]^2 + x[2]^2 + x[3]^2\n",
    "x_0            = [1,1,1]\n",
    "α              = 0.1\n",
    "E              = 0.001\n",
    "problema       = NewtonProblem(fun,x_0,α,E)\n",
    "\n",
    "println(problema())"
   ]
  }
 ],
 "metadata": {
  "kernelspec": {
   "display_name": "JuliaPro_v1.5.3-1 1.5.3",
   "language": "julia",
   "name": "juliapro_v1.5.3-1-1.5"
  },
  "language_info": {
   "file_extension": ".jl",
   "mimetype": "application/julia",
   "name": "julia",
   "version": "1.5.3"
  }
 },
 "nbformat": 4,
 "nbformat_minor": 2
}
