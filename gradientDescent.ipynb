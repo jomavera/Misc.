{
 "cells": [
  {
   "cell_type": "code",
   "execution_count": 2,
   "metadata": {},
   "outputs": [
    {
     "name": "stderr",
     "output_type": "stream",
     "text": [
      "┌ Info: Precompiling ForwardDiff [f6369f11-7733-5829-9624-2563aa707210]\n",
      "└ @ Base loading.jl:1278\n"
     ]
    }
   ],
   "source": [
    "using ForwardDiff: jacobian\n",
    "using LinearAlgebra"
   ]
  },
  {
   "cell_type": "markdown",
   "metadata": {},
   "source": [
    "### Composite for a gradient descent problem"
   ]
  },
  {
   "cell_type": "code",
   "execution_count": 3,
   "metadata": {
    "collapsed": true
   },
   "outputs": [],
   "source": [
    "struct GDProblem\n",
    "    fun\n",
    "    x_0::Vector\n",
    "    α_0::Float64\n",
    "    τ::Float64\n",
    "    c::Float64\n",
    "    E::Float64\n",
    "end"
   ]
  },
  {
   "cell_type": "markdown",
   "metadata": {},
   "source": [
    "### Define backtrack with Amijo's condition"
   ]
  },
  {
   "cell_type": "code",
   "execution_count": 4,
   "metadata": {},
   "outputs": [
    {
     "data": {
      "text/plain": [
       "armijoBacktrack (generic function with 1 method)"
      ]
     },
     "execution_count": 4,
     "metadata": {},
     "output_type": "execute_result"
    }
   ],
   "source": [
    "function armijoBacktrack(fun,x_k, p_k, α_0, τ, c)\n",
    "\n",
    "    α_k = copy(α_0)\n",
    "\n",
    "    while fun(x_k + α_k*p_k)[1] > fun(x_k)[1] + c*α_k*dot(jacobian(fun,x_k)[1,:],p_k)\n",
    "        α_k = τ*α_k\n",
    "    end\n",
    "\n",
    "    return α_k\n",
    "end"
   ]
  },
  {
   "cell_type": "markdown",
   "metadata": {},
   "source": [
    "### Define gradient descent algortihm"
   ]
  },
  {
   "cell_type": "code",
   "execution_count": 5,
   "metadata": {
    "collapsed": true
   },
   "outputs": [],
   "source": [
    "function solve(fun, x0, α_0, τ, c, E)\n",
    "\n",
    "    x = copy(x0)\n",
    "\n",
    "    while norm(jacobian(fun,x)) > E\n",
    "        p_k = -jacobian(fun,x)[1,:]\n",
    "        α_k = armijoBacktrack(fun, x, p_k, α_0, τ, c)\n",
    "        x   = x + α_k*p_k\n",
    "    end\n",
    "\n",
    "    return x\n",
    "end\n",
    "\n",
    "# Set to the GDProblem type the 'solve' function\n",
    "(P::GDProblem)() = solve(P.fun,P.x_0,P.α_0,P.τ,P.c,P.E)"
   ]
  },
  {
   "cell_type": "markdown",
   "metadata": {},
   "source": [
    "### Example\n",
    "\n",
    "$f(\\textbf{x}) = x_1^4 + 2x_1^3+2x_1^2+x_2^2-2x_1x_2$\n",
    "\n",
    "$\\textbf{x}^{(0)}= [1, 1]^T$\n",
    "\n",
    "$\\alpha^{(0)} = 1$\n",
    "\n",
    "$\\tau = 0.7$\n",
    "\n",
    "$c = 0.1$\n",
    "\n",
    "$E=0.001$"
   ]
  },
  {
   "cell_type": "code",
   "execution_count": 6,
   "metadata": {},
   "outputs": [
    {
     "name": "stdout",
     "output_type": "stream",
     "text": [
      "[-0.00016156687061940164, 4.5532839142354734e-5]\n"
     ]
    }
   ],
   "source": [
    "fun(x::Vector) = [ x[1]^4 + 2*x[1]^3 + 2*x[1]^2 + x[2]^2-2*x[1]*x[2] ]\n",
    "x_0            = [1.0,1.0]\n",
    "α_0            = 1.0\n",
    "τ              = 0.7\n",
    "c              = 0.1\n",
    "E              = 0.001\n",
    "\n",
    "problema       = GDProblem(fun,x_0,α_0,τ,c,E)\n",
    "\n",
    "println(problema())"
   ]
  }
 ],
 "metadata": {
  "kernelspec": {
   "display_name": "JuliaPro_v1.5.3-1 1.5.3",
   "language": "julia",
   "name": "juliapro_v1.5.3-1-1.5"
  },
  "language_info": {
   "file_extension": ".jl",
   "mimetype": "application/julia",
   "name": "julia",
   "version": "1.5.3"
  }
 },
 "nbformat": 4,
 "nbformat_minor": 2
}
