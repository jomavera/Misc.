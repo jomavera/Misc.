{
 "cells": [
  {
   "cell_type": "markdown",
   "metadata": {
    "collapsed": true
   },
   "source": [
    "# Assignment 2 - Sentiment Analysis and Classification Algorithms\n",
    "#### Jose Manuel Vera Aray"
   ]
  },
  {
   "cell_type": "markdown",
   "metadata": {},
   "source": [
    "### Import libraries to be used"
   ]
  },
  {
   "cell_type": "code",
   "execution_count": 2,
   "metadata": {
    "collapsed": false
   },
   "outputs": [
    {
     "name": "stderr",
     "output_type": "stream",
     "text": [
      "/resources/common/.virtualenv/python3/lib/python3.4/site-packages/sklearn/cross_validation.py:44: DeprecationWarning: This module was deprecated in version 0.18 in favor of the model_selection module into which all the refactored classes and functions are moved. Also note that the interface of the new CV iterators are different from that of this module. This module will be removed in 0.20.\n",
      "  \"This module will be removed in 0.20.\", DeprecationWarning)\n",
      "/resources/common/.virtualenv/python3/lib/python3.4/site-packages/sklearn/grid_search.py:43: DeprecationWarning: This module was deprecated in version 0.18 in favor of the model_selection module into which all the refactored classes and functions are moved. This module will be removed in 0.20.\n",
      "  DeprecationWarning)\n"
     ]
    }
   ],
   "source": [
    "import numpy as np\n",
    "import itertools\n",
    "import math\n",
    "import pandas as pd\n",
    "import csv\n",
    "import time\n",
    "from sklearn.cross_validation import train_test_split, KFold\n",
    "from sklearn.naive_bayes import MultinomialNB\n",
    "from sklearn.linear_model import LogisticRegression, SGDClassifier\n",
    "from sklearn.model_selection import learning_curve\n",
    "from sklearn import svm\n",
    "from sklearn.ensemble import RandomForestClassifier, BaggingClassifier\n",
    "from sklearn.pipeline import Pipeline\n",
    "from sklearn.feature_extraction.text import CountVectorizer, TfidfTransformer\n",
    "from sklearn.metrics import make_scorer, accuracy_score, precision_score, recall_score, f1_score, roc_curve, auc, confusion_matrix\n",
    "from sklearn.grid_search import GridSearchCV\n",
    "from sklearn.utils import shuffle\n",
    "%matplotlib inline\n",
    "import matplotlib as mpl\n",
    "import matplotlib.pyplot as plt\n",
    "import seaborn as sns\n",
    "sns.set(style=\"whitegrid\", color_codes=True)"
   ]
  },
  {
   "cell_type": "markdown",
   "metadata": {},
   "source": [
    "### Import training data"
   ]
  },
  {
   "cell_type": "code",
   "execution_count": 3,
   "metadata": {
    "collapsed": false
   },
   "outputs": [],
   "source": [
    "with open(\"/resources/data/classified_tweets.txt\", \"r\",encoding=\"utf8\") as myfile:\n",
    "     data = myfile.readlines()"
   ]
  },
  {
   "cell_type": "markdown",
   "metadata": {},
   "source": [
    "### Separate tweets into two sets: tweet data and its respective classification"
   ]
  },
  {
   "cell_type": "code",
   "execution_count": 4,
   "metadata": {
    "collapsed": false
   },
   "outputs": [],
   "source": [
    "X=[]\n",
    "y=[]\n",
    "for x in data:\n",
    "    X.append(x[1:])\n",
    "    y.append(x[0])"
   ]
  },
  {
   "cell_type": "markdown",
   "metadata": {},
   "source": [
    "### Split the data into the training set and test set for crossvalidation"
   ]
  },
  {
   "cell_type": "code",
   "execution_count": 5,
   "metadata": {
    "collapsed": false
   },
   "outputs": [],
   "source": [
    "X_train, X_test, y_train, y_test = train_test_split(X,y, random_state=42, test_size = 0.3)"
   ]
  },
  {
   "cell_type": "markdown",
   "metadata": {},
   "source": [
    "### Create a pipeline for each classifier algorithm"
   ]
  },
  {
   "cell_type": "markdown",
   "metadata": {},
   "source": [
    ".....vectorizer => transformer => classifier"
   ]
  },
  {
   "cell_type": "code",
   "execution_count": 6,
   "metadata": {
    "collapsed": false
   },
   "outputs": [],
   "source": [
    "#Logistic Regression\n",
    "Log_clf=Pipeline([('vect', CountVectorizer(analyzer='word')), ('tfidf', TfidfTransformer()), ('clf', LogisticRegression())])\n",
    "#Multinomial Naive Bayes\n",
    "MNB_clf=Pipeline([('vect', CountVectorizer(analyzer='word')), ('tfidf', TfidfTransformer()), ('clf', MultinomialNB())])"
   ]
  },
  {
   "cell_type": "markdown",
   "metadata": {},
   "source": [
    "### Parameter tuning"
   ]
  },
  {
   "cell_type": "markdown",
   "metadata": {},
   "source": [
    "We will use GridSearchCV, which exhaustively considers all parameter combinations, to find the best model for the data. A search consists of:\n",
    "- an estimator (regressor or classifier )\n",
    "- a parameter space;\n",
    "- a method for searching or sampling candidates;\n",
    "- a cross-validation scheme; \n",
    "- a score function, such as accurracy_score()"
   ]
  },
  {
   "cell_type": "markdown",
   "metadata": {},
   "source": [
    "Set parameters we will test for each algorithm"
   ]
  },
  {
   "cell_type": "code",
   "execution_count": 7,
   "metadata": {
    "collapsed": true
   },
   "outputs": [],
   "source": [
    "parameters_log = {'vect__ngram_range': [(1, 1), (1, 2)],'tfidf__use_idf': (True, False), 'clf__penalty': ['l1','l2'], 'clf__solver':['liblinear']}\n",
    "parameters_mnb = {'vect__ngram_range': [(1, 1), (1, 2)],'tfidf__use_idf': (True, False),'clf__alpha': (1,1e-2, 1e-3)}"
   ]
  },
  {
   "cell_type": "markdown",
   "metadata": {},
   "source": [
    "Set models and do the search of the parameter"
   ]
  },
  {
   "cell_type": "code",
   "execution_count": 8,
   "metadata": {
    "collapsed": false
   },
   "outputs": [
    {
     "name": "stdout",
     "output_type": "stream",
     "text": [
      "-----Tunning of parameters-----\n",
      "Logistic Regression -  Running Time: 50.627103328704834 s\n",
      "Multinomial Naive Bayes -  Running Time: 47.09324789047241 s\n"
     ]
    }
   ],
   "source": [
    "#Set models\n",
    "acc_scorer = make_scorer(accuracy_score)\n",
    "gs_log_clf = GridSearchCV(Log_clf, parameters_log, n_jobs=-1, scoring=acc_scorer)\n",
    "gs_mnb_clf = GridSearchCV(MNB_clf, parameters_mnb, n_jobs=-1, scoring=acc_scorer)\n",
    "# Grid search of best parameters\n",
    "print (\"-----Tunning of parameters-----\")\n",
    "start = time.time()\n",
    "gs_log_clf = gs_log_clf.fit(X_train, y_train)\n",
    "end = time.time()\n",
    "print (\"Logistic Regression -\",\" Running Time:\", end - start,\"s\")\n",
    "start = time.time()\n",
    "gs_mnb_clf= gs_mnb_clf.fit(X_train, y_train)\n",
    "end = time.time()\n",
    "print (\"Multinomial Naive Bayes -\",\" Running Time:\", end - start,\"s\")"
   ]
  },
  {
   "cell_type": "markdown",
   "metadata": {},
   "source": [
    "Set the classifiers to the have the best combination of parameters"
   ]
  },
  {
   "cell_type": "code",
   "execution_count": 9,
   "metadata": {
    "collapsed": false
   },
   "outputs": [],
   "source": [
    "Log_clf= gs_log_clf .best_estimator_\n",
    "MNB_clf= gs_mnb_clf .best_estimator_"
   ]
  },
  {
   "cell_type": "markdown",
   "metadata": {},
   "source": [
    "### Train algorithms"
   ]
  },
  {
   "cell_type": "code",
   "execution_count": 10,
   "metadata": {
    "collapsed": false
   },
   "outputs": [
    {
     "name": "stdout",
     "output_type": "stream",
     "text": [
      "Logistic Regression -  Running Time: 18.095815181732178 s\n",
      "Multinomial Naive Bayes -  Running Time: 13.500214576721191 s\n"
     ]
    }
   ],
   "source": [
    "start = time.time()\n",
    "Log_clf = Log_clf.fit(X_train, y_train)\n",
    "end = time.time()\n",
    "print (\"Logistic Regression -\",\" Running Time:\", end - start,\"s\")\n",
    "start = time.time()\n",
    "MNB_clf = MNB_clf.fit(X_train, y_train)\n",
    "end = time.time()\n",
    "print (\"Multinomial Naive Bayes -\",\" Running Time:\", end - start,\"s\")"
   ]
  },
  {
   "cell_type": "markdown",
   "metadata": {},
   "source": [
    "## Predict on the test set and check metrics"
   ]
  },
  {
   "cell_type": "code",
   "execution_count": 11,
   "metadata": {
    "collapsed": true
   },
   "outputs": [],
   "source": [
    "predicted_Log = Log_clf.predict(X_test)\n",
    "predicted_MNB =MNB_clf.predict(X_test)\n",
    "dec_Log = Log_clf.decision_function(X_test)\n",
    "dec_MNB =MNB_clf.predict_proba(X_test)"
   ]
  },
  {
   "cell_type": "markdown",
   "metadata": {},
   "source": [
    "#### Perform k-fold"
   ]
  },
  {
   "cell_type": "code",
   "execution_count": 12,
   "metadata": {
    "collapsed": true
   },
   "outputs": [],
   "source": [
    "def run_kfold(clf):\n",
    "    \n",
    "    #run KFold with 10 folds instead of the default 3\n",
    "    #on the 200000 records in the training_data\n",
    "    kf = KFold(200000, n_folds=10,shuffle=True)\n",
    "    X_new=np.array(X)\n",
    "    y_new=np.array(y)\n",
    "    outcomes = []\n",
    "    fold = 0\n",
    "    \n",
    "    for train_index, test_index in kf:\n",
    "        fold += 1\n",
    "        X1_train, X1_test = X_new[train_index], X_new[test_index]\n",
    "        y1_train, y1_test = y_new[train_index], y_new[test_index]\n",
    "        \n",
    "        clf.fit(X1_train, y1_train)\n",
    "        predictions = clf.predict(X1_test)\n",
    "        \n",
    "        accuracy = accuracy_score(y1_test, predictions)\n",
    "        outcomes.append(accuracy)\n",
    "        print(\"Fold {0} accuracy: {1}\".format(fold, accuracy))   \n",
    "        \n",
    "    mean_outcome = np.mean(outcomes)\n",
    "    print(\"Mean Accuracy: {0}\".format(mean_outcome))"
   ]
  },
  {
   "cell_type": "code",
   "execution_count": 13,
   "metadata": {
    "collapsed": false
   },
   "outputs": [
    {
     "name": "stdout",
     "output_type": "stream",
     "text": [
      "Fold 1 accuracy: 0.8042\n",
      "Fold 2 accuracy: 0.80495\n",
      "Fold 3 accuracy: 0.80105\n",
      "Fold 4 accuracy: 0.80675\n",
      "Fold 5 accuracy: 0.80745\n",
      "Fold 6 accuracy: 0.80215\n",
      "Fold 7 accuracy: 0.80555\n",
      "Fold 8 accuracy: 0.7991\n",
      "Fold 9 accuracy: 0.80035\n",
      "Fold 10 accuracy: 0.79935\n",
      "Mean Accuracy: 0.8030900000000001\n"
     ]
    }
   ],
   "source": [
    "run_kfold(Log_clf)"
   ]
  },
  {
   "cell_type": "code",
   "execution_count": 14,
   "metadata": {
    "collapsed": false
   },
   "outputs": [
    {
     "name": "stdout",
     "output_type": "stream",
     "text": [
      "Fold 1 accuracy: 0.78955\n",
      "Fold 2 accuracy: 0.78545\n",
      "Fold 3 accuracy: 0.78645\n",
      "Fold 4 accuracy: 0.79135\n",
      "Fold 5 accuracy: 0.78725\n",
      "Fold 6 accuracy: 0.78975\n",
      "Fold 7 accuracy: 0.7871\n",
      "Fold 8 accuracy: 0.7897\n",
      "Fold 9 accuracy: 0.7837\n",
      "Fold 10 accuracy: 0.7938\n",
      "Mean Accuracy: 0.7884099999999999\n"
     ]
    }
   ],
   "source": [
    "run_kfold(MNB_clf)"
   ]
  },
  {
   "cell_type": "markdown",
   "metadata": {},
   "source": [
    "#### Plot Confusion Matrix"
   ]
  },
  {
   "cell_type": "code",
   "execution_count": 15,
   "metadata": {
    "collapsed": false
   },
   "outputs": [],
   "source": [
    "Log_matrix=confusion_matrix(y_test, predicted_Log)\n",
    "Log_matrix=Log_matrix[::-1, ::-1]\n",
    "MNB_matrix=confusion_matrix(y_test, predicted_MNB)\n",
    "MNB_matrix=MNB_matrix[::-1, ::-1]"
   ]
  },
  {
   "cell_type": "code",
   "execution_count": 16,
   "metadata": {
    "collapsed": false
   },
   "outputs": [],
   "source": [
    "def plot_confusion_matrix(cm, classes,  normalize=False, title='Confusion matrix', cmap=plt.cm.Blues):\n",
    "    \"\"\"\n",
    "    This function prints and plots the confusion matrix.\n",
    "    Normalization can be applied by setting `normalize=True`.\n",
    "    \"\"\"\n",
    "    plt.imshow(cm, interpolation='nearest', cmap=cmap)\n",
    "    plt.title(title)\n",
    "    plt.colorbar()\n",
    "    tick_marks = np.arange(len(classes))\n",
    "    plt.xticks(tick_marks, classes, rotation=45)\n",
    "    plt.yticks(tick_marks, classes)\n",
    "\n",
    "    if normalize:\n",
    "        cm = cm.astype('float') / cm.sum(axis=1)[:, np.newaxis]\n",
    "        print(\"Normalized confusion matrix\")\n",
    "    else:\n",
    "        print('Confusion matrix, without normalization')\n",
    "\n",
    "    print(cm)\n",
    "\n",
    "    thresh = cm.max() / 2.\n",
    "    for i, j in itertools.product(range(cm.shape[0]), range(cm.shape[1])):\n",
    "        plt.text(j, i,round(cm[i, j],2), horizontalalignment=\"center\", color=\"white\" if cm[i, j] > thresh else \"black\")\n",
    "    \n",
    "    plt.tight_layout()\n",
    "    plt.ylabel('True label')\n",
    "    plt.xlabel('Predicted label')"
   ]
  },
  {
   "cell_type": "code",
   "execution_count": 17,
   "metadata": {
    "collapsed": false
   },
   "outputs": [
    {
     "name": "stdout",
     "output_type": "stream",
     "text": [
      "Normalized confusion matrix\n",
      "[[ 0.7897111   0.2102889 ]\n",
      " [ 0.18944089  0.81055911]]\n"
     ]
    },
    {
     "data": {
      "image/png": "[encoded data removed]",
      "text/plain": [
       "<matplotlib.figure.Figure at 0x7f62eb5524e0>"
      ]
     },
     "metadata": {},
     "output_type": "display_data"
    }
   ],
   "source": [
    "plot_confusion_matrix(Log_matrix, classes=[\"Positive\",\"Negative\"], normalize=True, title='Normalized confusion matrix')"
   ]
  },
  {
   "cell_type": "code",
   "execution_count": 18,
   "metadata": {
    "collapsed": false
   },
   "outputs": [
    {
     "name": "stdout",
     "output_type": "stream",
     "text": [
      "Normalized confusion matrix\n",
      "[[ 0.7197917   0.2802083 ]\n",
      " [ 0.14853774  0.85146226]]\n"
     ]
    },
    {
     "data": {
      "image/png": "[encoded data removed]",
      "text/plain": [
       "<matplotlib.figure.Figure at 0x7f62ddf02390>"
      ]
     },
     "metadata": {},
     "output_type": "display_data"
    }
   ],
   "source": [
    "plot_confusion_matrix(MNB_matrix, classes=[\"Positive\",\"Negative\"], normalize=True,  title='Normalized confusion matrix')"
   ]
  },
  {
   "cell_type": "markdown",
   "metadata": {},
   "source": [
    "Print the metrics of the performance of the algorithms"
   ]
  },
  {
   "cell_type": "code",
   "execution_count": 19,
   "metadata": {
    "collapsed": false
   },
   "outputs": [
    {
     "name": "stdout",
     "output_type": "stream",
     "text": [
      "Metrics Logistic Regression\n",
      "-------------------------------------\n",
      "Accuracy: 0.800083333333\n",
      "Recall: 0.789711101529\n",
      "Precision: 0.808070866142\n",
      "F1 Score: 0.798785499807\n",
      "\n",
      "Metrics Multinomial Naive Bayes\n",
      "-------------------------------------\n",
      "Accuracy: 0.7853\n",
      "Recall: 0.719791701217\n",
      "Precision: 0.83034245265\n",
      "F1 Score: 0.771125008884\n"
     ]
    }
   ],
   "source": [
    "X_test_new_Log=[]\n",
    "X_test_new_MNB=[]\n",
    "y_new=[]\n",
    "Log_list=predicted_Log.tolist()\n",
    "MNB_list=predicted_MNB.tolist()\n",
    "for x in Log_list:\n",
    "    X_test_new_Log.append(int(x))\n",
    "for x in MNB_list:\n",
    "    X_test_new_MNB.append(int(x))\n",
    "for x in y_test:\n",
    "    y_new.append(int(x))\n",
    "\n",
    "\n",
    "Log_list_prediction=[1 if x==4 else x for x in X_test_new_Log]\n",
    "MNB_list_prediction=[1 if x==4 else x for x in X_test_new_MNB]\n",
    "target_new=[1 if x==4 else x for x in y_new]\n",
    "\n",
    "print('Metrics Logistic Regression')\n",
    "print('-------------------------------------')\n",
    "print(\"Accuracy:\",accuracy_score(target_new, Log_list_prediction))\n",
    "print(\"Recall:\",recall_score(target_new,Log_list_prediction))\n",
    "print(\"Precision:\",precision_score(target_new, Log_list_prediction))\n",
    "print(\"F1 Score:\",f1_score(target_new, Log_list_prediction))\n",
    "print('' '')\n",
    "print('Metrics Multinomial Naive Bayes')\n",
    "print('-------------------------------------')\n",
    "print(\"Accuracy:\",accuracy_score(target_new, MNB_list_prediction))\n",
    "print(\"Recall:\",recall_score(target_new,MNB_list_prediction))\n",
    "print(\"Precision:\",precision_score(target_new, MNB_list_prediction))\n",
    "print(\"F1 Score:\",f1_score(target_new, MNB_list_prediction))"
   ]
  },
  {
   "cell_type": "markdown",
   "metadata": {},
   "source": [
    "ROC Curves"
   ]
  },
  {
   "cell_type": "code",
   "execution_count": 20,
   "metadata": {
    "collapsed": false
   },
   "outputs": [
    {
     "data": {
      "image/png": "[encoded data removed]",
      "text/plain": [
       "<matplotlib.figure.Figure at 0x7f62e149dd30>"
      ]
     },
     "metadata": {},
     "output_type": "display_data"
    },
    {
     "data": {
      "text/plain": [
       "<matplotlib.figure.Figure at 0x7f62e1682e80>"
      ]
     },
     "metadata": {},
     "output_type": "display_data"
    }
   ],
   "source": [
    "predicted_Log_new=[]\n",
    "y_actual=[]\n",
    "for x in dec_Log:\n",
    "    predicted_Log_new.append(int(x))\n",
    "for x in y_test:\n",
    "    y_actual.append(int(x))\n",
    "\n",
    "Log_list_prediction=[1 if x==4 else x for x in predicted_Log_new]\n",
    "target_new=[1 if x==4 else x for x in  y_actual]\n",
    "\n",
    "fpr, tpr, thresholds=roc_curve(target_new, Log_list_prediction, pos_label=1)\n",
    "roc_auc= auc(fpr, tpr)\n",
    "plt.figure()\n",
    "lw = 2\n",
    "plt.plot(fpr, tpr, color='darkorange', lw=lw, label='ROC curve (area = %0.3f)' % roc_auc )\n",
    "plt.plot([0, 1], [0, 1], color='navy', lw=lw, linestyle='--')\n",
    "plt.xlim([0.0, 1.0])\n",
    "plt.ylim([0.0, 1.05])\n",
    "plt.xlabel('False Positive Rate')\n",
    "plt.ylabel('True Positive Rate')\n",
    "plt.title('Logistic Regression ROC Curve')\n",
    "plt.legend(loc=\"lower right\")\n",
    "plt.show()\n",
    "plt.savefig('Log_roc.jpg')"
   ]
  },
  {
   "cell_type": "code",
   "execution_count": 21,
   "metadata": {
    "collapsed": false
   },
   "outputs": [
    {
     "data": {
      "image/png": "[encoded data removed]",
      "text/plain": [
       "<matplotlib.figure.Figure at 0x7f62dfd97780>"
      ]
     },
     "metadata": {},
     "output_type": "display_data"
    },
    {
     "data": {
      "text/plain": [
       "<matplotlib.figure.Figure at 0x7f62e3e9d940>"
      ]
     },
     "metadata": {},
     "output_type": "display_data"
    }
   ],
   "source": [
    "predicted_MNB_new=[]\n",
    "y_actual=[]\n",
    "for x in range(0,60000):\n",
    "    predicted_MNB_new.append(dec_MNB[x][1])\n",
    "#for x in dec_MNB:\n",
    "#    predicted_MNB_new.append(int(x))\n",
    "for x in y_test:\n",
    "    y_actual.append(int(x))\n",
    "\n",
    "#MNB_list_prediction=[1 if x==4 else x for x in predicted_MNB_new]\n",
    "target_new=[1 if x==4 else x for x in  y_actual]\n",
    "\n",
    "fpr, tpr, thresholds=roc_curve(target_new, predicted_MNB_new)\n",
    "roc_auc= auc(fpr, tpr)\n",
    "plt.figure()\n",
    "lw = 2\n",
    "plt.plot(fpr, tpr, color='darkorange', lw=lw, label='ROC curve (area = %0.3f)' % roc_auc )\n",
    "plt.plot([0, 1], [0, 1], color='navy', lw=lw, linestyle='--')\n",
    "plt.xlim([0.0, 1.0])\n",
    "plt.ylim([0.0, 1.05])\n",
    "plt.xlabel('False Positive Rate')\n",
    "plt.ylabel('True Positive Rate')\n",
    "plt.title('Multinomial Naive Bayes ROC Curve')\n",
    "plt.legend(loc=\"lower right\")\n",
    "plt.show()\n",
    "plt.savefig('MNB_roc.jpg')"
   ]
  },
  {
   "cell_type": "markdown",
   "metadata": {},
   "source": [
    "## Predict on unclassified data"
   ]
  },
  {
   "cell_type": "code",
   "execution_count": 22,
   "metadata": {
    "collapsed": false
   },
   "outputs": [],
   "source": [
    "with open(\"/resources/data/unclassified_tweets.txt\", \"r\",encoding=\"utf8\") as myfile:\n",
    "     unclass_data = myfile.readlines()"
   ]
  },
  {
   "cell_type": "markdown",
   "metadata": {},
   "source": [
    "Predict sentiment"
   ]
  },
  {
   "cell_type": "code",
   "execution_count": 23,
   "metadata": {
    "collapsed": false
   },
   "outputs": [],
   "source": [
    "MNB_clf = MNB_clf.fit(X_train, y_train)\n",
    "predicted_MNB_unclass =MNB_clf.predict(unclass_data)"
   ]
  },
  {
   "cell_type": "markdown",
   "metadata": {},
   "source": [
    "#### Categorize data by political party"
   ]
  },
  {
   "cell_type": "code",
   "execution_count": 24,
   "metadata": {
    "collapsed": true
   },
   "outputs": [],
   "source": [
    "def party(tw):\n",
    "    \"\"\"For NDP is chosen the name of the candidate of that party in various forms and its campaign slogan\n",
    "        For Liberals is chosen the name of the candidate of that party in various forms and its campaign slogan\n",
    "        For Conservatives was chosen the name of the candidate of that partym and associations related with the party (tcot,ccot),\n",
    "            nickname used by them (like tory) and the bill that was inroduced by the conservative government (c51)\"\"\"\n",
    "    tw_clean=tw.split()\n",
    "    hashtags=[]\n",
    "    NDP_list=['tommulcair','mulcair','ndp','tm4pm', 'ready4change','thomasmulcair']\n",
    "    Lib_list=['justin', 'trudeau\\'s','lpc','trudeau','realchange','liberal','liberals','justintrudeau','teamtrudeau']\n",
    "    Cons_list=['c51','harper','cpc','conservative', 'tory','tcot','stephenharper','ccot','harper','conservatives']\n",
    "    for x in range(0,len(tw_clean)):\n",
    "        if tw_clean[x].find('#')!= -1:\n",
    "            hashtags.append(tw_clean[x].replace('#',''))\n",
    "    result=''\n",
    "    if hashtags:\n",
    "        for x in hashtags:\n",
    "            if x in NDP_list:\n",
    "                result= 'NDP'\n",
    "                return result\n",
    "            elif x in Lib_list:\n",
    "                result= 'Liberal'\n",
    "                return result\n",
    "            elif x in Cons_list:\n",
    "                result= 'Conservative'\n",
    "                return result\n",
    "    if result=='':\n",
    "        result='Other'\n",
    "        return result"
   ]
  },
  {
   "cell_type": "code",
   "execution_count": 25,
   "metadata": {
    "collapsed": true
   },
   "outputs": [],
   "source": [
    "party_af=[]\n",
    "for x in range(0,len(unclass_data)):\n",
    "    party_af.append(party(unclass_data[x]))"
   ]
  },
  {
   "cell_type": "markdown",
   "metadata": {},
   "source": [
    "#### Put data into a dataframe"
   ]
  },
  {
   "cell_type": "code",
   "execution_count": 26,
   "metadata": {
    "collapsed": false
   },
   "outputs": [
    {
     "data": {
      "text/html": [
       "<div>\n",
       "<table border=\"1\" class=\"dataframe\">\n",
       "  <thead>\n",
       "    <tr style=\"text-align: right;\">\n",
       "      <th></th>\n",
       "      <th>Tweet</th>\n",
       "      <th>Party</th>\n",
       "      <th>Classification - MNB</th>\n",
       "    </tr>\n",
       "  </thead>\n",
       "  <tbody>\n",
       "    <tr>\n",
       "      <th>0</th>\n",
       "      <td>﻿living the dream. #cameraman #camera #camerac...</td>\n",
       "      <td>Other</td>\n",
       "      <td>0</td>\n",
       "    </tr>\n",
       "    <tr>\n",
       "      <th>1</th>\n",
       "      <td>justin #trudeau's reasons for thanksgiving. to...</td>\n",
       "      <td>Liberal</td>\n",
       "      <td>4</td>\n",
       "    </tr>\n",
       "    <tr>\n",
       "      <th>2</th>\n",
       "      <td>@themadape   butt…..butt…..we’re allergic to l...</td>\n",
       "      <td>Other</td>\n",
       "      <td>4</td>\n",
       "    </tr>\n",
       "    <tr>\n",
       "      <th>3</th>\n",
       "      <td>2 massive explosions at peace march in #turkey...</td>\n",
       "      <td>Other</td>\n",
       "      <td>4</td>\n",
       "    </tr>\n",
       "    <tr>\n",
       "      <th>4</th>\n",
       "      <td>#mulcair suggests there’s bad blood between hi...</td>\n",
       "      <td>NDP</td>\n",
       "      <td>4</td>\n",
       "    </tr>\n",
       "  </tbody>\n",
       "</table>\n",
       "</div>"
      ],
      "text/plain": [
       "                                               Tweet    Party  \\\n",
       "0  ﻿living the dream. #cameraman #camera #camerac...    Other   \n",
       "1  justin #trudeau's reasons for thanksgiving. to...  Liberal   \n",
       "2  @themadape   butt…..butt…..we’re allergic to l...    Other   \n",
       "3  2 massive explosions at peace march in #turkey...    Other   \n",
       "4  #mulcair suggests there’s bad blood between hi...      NDP   \n",
       "\n",
       "  Classification - MNB  \n",
       "0                    0  \n",
       "1                    4  \n",
       "2                    4  \n",
       "3                    4  \n",
       "4                    4  "
      ]
     },
     "execution_count": 26,
     "metadata": {},
     "output_type": "execute_result"
    }
   ],
   "source": [
    "predictions=[]\n",
    "for x in range(0,len(unclass_data)):\n",
    "    predictions.append((unclass_data[x],party_af[x],predicted_MNB_unclass[x]))\n",
    "tweets=pd.DataFrame(predictions, columns=[\"Tweet\",\"Party\",\"Classification - MNB\"])\n",
    "tweets.head()"
   ]
  },
  {
   "cell_type": "code",
   "execution_count": 27,
   "metadata": {
    "collapsed": false
   },
   "outputs": [
    {
     "name": "stderr",
     "output_type": "stream",
     "text": [
      "/usr/local/lib/python3.4/dist-packages/ipykernel/__main__.py:5: SettingWithCopyWarning: \n",
      "A value is trying to be set on a copy of a slice from a DataFrame.\n",
      "Try using .loc[row_indexer,col_indexer] = value instead\n",
      "\n",
      "See the caveats in the documentation: http://pandas.pydata.org/pandas-docs/stable/indexing.html#indexing-view-versus-copy\n",
      "/usr/local/lib/python3.4/dist-packages/ipykernel/__main__.py:6: SettingWithCopyWarning: \n",
      "A value is trying to be set on a copy of a slice from a DataFrame\n",
      "\n",
      "See the caveats in the documentation: http://pandas.pydata.org/pandas-docs/stable/indexing.html#indexing-view-versus-copy\n"
     ]
    },
    {
     "data": {
      "text/html": [
       "<div>\n",
       "<table border=\"1\" class=\"dataframe\">\n",
       "  <thead>\n",
       "    <tr style=\"text-align: right;\">\n",
       "      <th></th>\n",
       "      <th>Tweet</th>\n",
       "      <th>Party</th>\n",
       "      <th>Sentiment</th>\n",
       "    </tr>\n",
       "  </thead>\n",
       "  <tbody>\n",
       "    <tr>\n",
       "      <th>1</th>\n",
       "      <td>justin #trudeau's reasons for thanksgiving. to...</td>\n",
       "      <td>Liberal</td>\n",
       "      <td>Positive</td>\n",
       "    </tr>\n",
       "    <tr>\n",
       "      <th>4</th>\n",
       "      <td>#mulcair suggests there’s bad blood between hi...</td>\n",
       "      <td>NDP</td>\n",
       "      <td>Positive</td>\n",
       "    </tr>\n",
       "    <tr>\n",
       "      <th>5</th>\n",
       "      <td>#polqc on se sort de la marde avec #harper et ...</td>\n",
       "      <td>Conservative</td>\n",
       "      <td>Positive</td>\n",
       "    </tr>\n",
       "    <tr>\n",
       "      <th>16</th>\n",
       "      <td>#ready4change #ndp #tm4pm fb.me/53nxi25ue \\n</td>\n",
       "      <td>NDP</td>\n",
       "      <td>Negative</td>\n",
       "    </tr>\n",
       "    <tr>\n",
       "      <th>17</th>\n",
       "      <td>can you believe the guy who vows to spiral can...</td>\n",
       "      <td>Liberal</td>\n",
       "      <td>Negative</td>\n",
       "    </tr>\n",
       "  </tbody>\n",
       "</table>\n",
       "</div>"
      ],
      "text/plain": [
       "                                                Tweet         Party Sentiment\n",
       "1   justin #trudeau's reasons for thanksgiving. to...       Liberal  Positive\n",
       "4   #mulcair suggests there’s bad blood between hi...           NDP  Positive\n",
       "5   #polqc on se sort de la marde avec #harper et ...  Conservative  Positive\n",
       "16       #ready4change #ndp #tm4pm fb.me/53nxi25ue \\n           NDP  Negative\n",
       "17  can you believe the guy who vows to spiral can...       Liberal  Negative"
      ]
     },
     "execution_count": 27,
     "metadata": {},
     "output_type": "execute_result"
    }
   ],
   "source": [
    "def get_sent(tweet):\n",
    "    classf = tweet\n",
    "    return 'Positive' if classf=='4' else 'Negative'\n",
    "tweets_clean= tweets[tweets.Party !=\"Other\"]\n",
    "tweets_clean['Sentiment'] = tweets_clean['Classification - MNB'].apply(get_sent)\n",
    "tweets_clean.drop(labels=['Classification - MNB'], axis=1, inplace=True)\n",
    "tweets_clean.head()"
   ]
  },
  {
   "cell_type": "code",
   "execution_count": 28,
   "metadata": {
    "collapsed": false
   },
   "outputs": [
    {
     "data": {
      "text/plain": [
       "<matplotlib.axes._subplots.AxesSubplot at 0x7f62e5dd8940>"
      ]
     },
     "execution_count": 28,
     "metadata": {},
     "output_type": "execute_result"
    },
    {
     "data": {
      "image/png": "[encoded data removed]",
      "text/plain": [
       "<matplotlib.figure.Figure at 0x7f62ee3db1d0>"
      ]
     },
     "metadata": {},
     "output_type": "display_data"
    }
   ],
   "source": [
    "sns.countplot(x='Sentiment', hue=\"Party\", data=tweets_clean)"
   ]
  },
  {
   "cell_type": "markdown",
   "metadata": {},
   "source": [
    "#### Get some information about the predictions"
   ]
  },
  {
   "cell_type": "code",
   "execution_count": 29,
   "metadata": {
    "collapsed": false
   },
   "outputs": [
    {
     "name": "stdout",
     "output_type": "stream",
     "text": [
      "Number of tweets of classfied for each party\n"
     ]
    },
    {
     "data": {
      "text/plain": [
       "Liberal         520\n",
       "Conservative    368\n",
       "NDP             343\n",
       "Name: Party, dtype: int64"
      ]
     },
     "execution_count": 29,
     "metadata": {},
     "output_type": "execute_result"
    }
   ],
   "source": [
    "print (\"Number of tweets of classfied for each party\")\n",
    "tweets_clean.Party.value_counts().head()"
   ]
  },
  {
   "cell_type": "code",
   "execution_count": 30,
   "metadata": {
    "collapsed": false
   },
   "outputs": [
    {
     "name": "stdout",
     "output_type": "stream",
     "text": [
      "Number of tweets of classfied for each party\n"
     ]
    },
    {
     "data": {
      "text/plain": [
       "Liberal         398\n",
       "Conservative    239\n",
       "NDP             236\n",
       "Name: Party, dtype: int64"
      ]
     },
     "execution_count": 30,
     "metadata": {},
     "output_type": "execute_result"
    }
   ],
   "source": [
    "print (\"Number of tweets of classfied for each party\")\n",
    "tweets_clean[tweets_clean.Sentiment=='Positive'].Party.value_counts().head()"
   ]
  },
  {
   "cell_type": "code",
   "execution_count": 31,
   "metadata": {
    "collapsed": false
   },
   "outputs": [
    {
     "name": "stdout",
     "output_type": "stream",
     "text": [
      "Number of tweets of classfied for each party\n"
     ]
    },
    {
     "data": {
      "text/plain": [
       "Conservative    129\n",
       "Liberal         122\n",
       "NDP             107\n",
       "Name: Party, dtype: int64"
      ]
     },
     "execution_count": 31,
     "metadata": {},
     "output_type": "execute_result"
    }
   ],
   "source": [
    "print (\"Number of tweets of classfied for each party\")\n",
    "tweets_clean[tweets_clean.Sentiment=='Negative'].Party.value_counts().head()"
   ]
  }
 ],
 "metadata": {
  "kernelspec": {
   "display_name": "Python 3",
   "language": "python",
   "name": "python3"
  },
  "language_info": {
   "codemirror_mode": {
    "name": "ipython",
    "version": 3.0
   },
   "file_extension": ".py",
   "mimetype": "text/x-python",
   "name": "python",
   "nbconvert_exporter": "python",
   "pygments_lexer": "ipython3",
   "version": "3.4.3"
  },
  "widgets": {
   "state": {},
   "version": "1.1.2"
  }
 },
 "nbformat": 4,
 "nbformat_minor": 0
}